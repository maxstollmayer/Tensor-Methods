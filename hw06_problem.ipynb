{
 "cells": [
  {
   "attachments": {},
   "cell_type": "markdown",
   "metadata": {},
   "source": [
    "The following illustrates the problem with the shape of the result of the left orthogonalization. The input checking has been disabled so that the error is thrown from the algorithm itself."
   ]
  },
  {
   "cell_type": "code",
   "execution_count": 1,
   "metadata": {},
   "outputs": [],
   "source": [
    "using LinearAlgebra"
   ]
  },
  {
   "cell_type": "code",
   "execution_count": 2,
   "metadata": {},
   "outputs": [],
   "source": [
    "# strong Kronecker product for 3rd order tensors\n",
    "function strongKron(A::AbstractArray{<:Number, 3}, B::AbstractArray{<:Number, 3})\n",
    "    m = size(A)\n",
    "    n = size(B)\n",
    "    @assert m[3] == n[1] \"Shared rank index does not match: got $(m[3]) and $(n[1]) respectively.\"\n",
    "\n",
    "    C = reshape(A, m[1]*m[2], m[3]) * reshape(B, n[1], n[2]*n[3])\n",
    "    return reshape(C, m[1], m[2]*n[2], n[3])\n",
    "end\n",
    "\n",
    "⨝(A::AbstractArray{<:Number, 3}, B::AbstractArray{<:Number, 3}) = strongKron(A, B)\n",
    "\n",
    ";"
   ]
  },
  {
   "cell_type": "code",
   "execution_count": 3,
   "metadata": {},
   "outputs": [],
   "source": [
    "# MPS-TT type as a list of 3D-tensor factors\n",
    "MPSTT{T<:Number} = AbstractVector{<:AbstractArray{T,3}}\n",
    "\n",
    "# returns number of dimensions of an MPS-TT\n",
    "dims(U::MPSTT) = length(U)\n",
    "\n",
    "# returns the mode dimensions of an MPS-TT\n",
    "function shape(U::MPSTT)\n",
    "    n = [size(factor, 2) for factor in U]\n",
    "    return Tuple(n)\n",
    "end\n",
    "\n",
    "# returns the ranks of an MPS-TT\n",
    "function ranks(U::MPSTT)\n",
    "    r = [size(factor, 1) for factor in U]\n",
    "    r = r[2:end] # remove dummy dimension\n",
    "    return Tuple(r)\n",
    "end\n",
    "\n",
    "# construct tensor from MPS-TT factors\n",
    "function evalMPSTT(U::MPSTT)\n",
    "    n = shape(U)\n",
    "    A = reduce(strongKron, U)\n",
    "    return reshape(A, n)\n",
    "end\n",
    "\n",
    ";"
   ]
  },
  {
   "cell_type": "code",
   "execution_count": 118,
   "metadata": {},
   "outputs": [],
   "source": [
    "function roundMPSTT(U::MPSTT, p::NTuple{N,<:Integer}) where N\n",
    "\n",
    "    # initialization\n",
    "    d = dims(U)\n",
    "    n = shape(U)\n",
    "    r = [1, ranks(U)..., 1]\n",
    "    p = [1, p..., 1]\n",
    "    V = []\n",
    "    singular_vals = Vector{Vector{Float64}}(undef, d-1)\n",
    "    norms = Vector{Float64}(undef, d-1)\n",
    "\n",
    "    # check input\n",
    "    # @assert N == d-1 \"Expected $(d-1) rank(s), got $N.\"\n",
    "    # for k ∈ 1:d-1\n",
    "    #     upper = min(p[k] * n[k], prod(n[k+1:end]))\n",
    "    #     upper = min(upper, r[k+1])\n",
    "    #     @assert 0 < p[k+1] <= upper \"Rank at index $k is out of bounds: expected in range 1:$upper, got $(p[k+1]).\"\n",
    "    # end\n",
    "\n",
    "    # left orthogonalization\n",
    "    R = ones(1, 1, 1)\n",
    "    for k ∈ d:-1:2\n",
    "        UR = U[k] ⨝ R\n",
    "\n",
    "        UR = permutedims(UR, [3,2,1]) # permute dims for right QR\n",
    "        UR = reshape(UR, r[k+1]*n[k], r[k])\n",
    "\n",
    "        Q, R = qr(UR)\n",
    "\n",
    "        # adjust ranks according to qr\n",
    "        r[k] = min(size(R)...)\n",
    "\n",
    "        Q = reshape(Matrix(Q), r[k+1], n[k], r[k])\n",
    "        R = reshape(R, size(R,1), 1, size(R,2))\n",
    "\n",
    "        Q = permutedims(Q, [3,2,1])\n",
    "        R = permutedims(R, [3,2,1])\n",
    "\n",
    "        push!(V, Q)\n",
    "    end\n",
    "\n",
    "    # compute first factor\n",
    "    push!(V, U[1] ⨝ R)\n",
    "    reverse!(V)\n",
    "\n",
    "    # right approximation\n",
    "    S = ones(1, 1, 1)\n",
    "    for k ∈ 1:d-1\n",
    "        SV = S ⨝ V[k]\n",
    "        SV = reshape(SV, p[k]*n[k], r[k+1])\n",
    "\n",
    "        F = svd(SV)\n",
    "\n",
    "        # adjust ranks according to svd\n",
    "        p[k+1] = min(size(F.Vt)...)\n",
    "        \n",
    "        Vk = F.U[:,1:p[k+1]]\n",
    "        S = F.Vt[1:p[k+1],:] .* F.S[1:p[k+1]]\n",
    "\n",
    "        singular_vals[k] = F.S\n",
    "        norms[k] = norm(SV - Vk * S)\n",
    "\n",
    "        Vk = reshape(Vk, p[k], n[k], p[k+1])\n",
    "        S = reshape(S, p[k+1], 1, r[k+1])\n",
    "\n",
    "        V[k] = Vk\n",
    "    end\n",
    "\n",
    "    # compute last factor\n",
    "    V[d] = S ⨝ V[d]\n",
    "\n",
    "    # bring all factors to the same type\n",
    "    T = Base.promote_eltype(V...)\n",
    "    V = [convert(Array{T}, factor) for factor ∈ V]\n",
    "\n",
    "    return V, singular_vals, norms\n",
    "end\n",
    ";"
   ]
  },
  {
   "cell_type": "code",
   "execution_count": 119,
   "metadata": {},
   "outputs": [],
   "source": [
    "function addMPSTT(A::MPSTT, B::MPSTT)\n",
    "    d = dims(A)\n",
    "    @assert d == dims(B) \"Number of dimensions do not match: Got $d and $(dims(B)).\"\n",
    "    @assert shape(A) == shape(B) \"Mode dimensions do not match: Got $(shape(A)) and $(shape(B)).\"\n",
    "\n",
    "    first_factor = cat(A[1], B[1], dims=3)\n",
    "    middle_factors = [cat(A[k], B[k], dims=(1,3)) for k ∈ 2:d-1]\n",
    "    last_factor = cat(A[d], B[d], dims=1)\n",
    "\n",
    "    return [first_factor, middle_factors..., last_factor]\n",
    "end\n",
    ";"
   ]
  },
  {
   "cell_type": "code",
   "execution_count": 120,
   "metadata": {},
   "outputs": [],
   "source": [
    "n = (10, 11, 12, 13)\n",
    "rank = (n[1], n[2]*n[3], n[4])\n",
    "r = [1, rank..., 1]\n",
    "A = [rand(r[k], n[k], r[k+1]) for k ∈ 1:length(n)]\n",
    "B = [rand(r[k], n[k], r[k+1]) for k ∈ 1:length(n)]\n",
    "S = addMPSTT(A, B)\n",
    ";"
   ]
  },
  {
   "attachments": {},
   "cell_type": "markdown",
   "metadata": {},
   "source": [
    "Maybe there is a problem in my MPS-TT sum implementation as well since the error is very big."
   ]
  },
  {
   "cell_type": "code",
   "execution_count": 125,
   "metadata": {},
   "outputs": [
    {
     "data": {
      "text/plain": [
       "1.3267230587073628e-16"
      ]
     },
     "metadata": {},
     "output_type": "display_data"
    }
   ],
   "source": [
    "@assert shape(S) == n\n",
    "@assert ranks(S) == 2 .* rank\n",
    "\n",
    "AB = evalMPSTT(A) + evalMPSTT(B)\n",
    "evalS = evalMPSTT(S)\n",
    "norm(evalS - AB) / norm(AB)"
   ]
  },
  {
   "cell_type": "code",
   "execution_count": 126,
   "metadata": {},
   "outputs": [
    {
     "name": "stdout",
     "output_type": "stream",
     "text": [
      "norm(evalF - evalS) = 5.357115841618941e-10\n",
      "norm(evalF - AB) / norm(AB) = 1.9929877113815152e-15\n"
     ]
    }
   ],
   "source": [
    "F, = roundMPSTT(S, ranks(S));\n",
    "evalF = evalMPSTT(F)\n",
    "@show norm(evalF - evalS)\n",
    "@show norm(evalF - AB) / norm(AB)\n",
    ";"
   ]
  },
  {
   "cell_type": "code",
   "execution_count": 123,
   "metadata": {},
   "outputs": [
    {
     "data": {
      "text/plain": [
       "(10, 110, 13)"
      ]
     },
     "metadata": {},
     "output_type": "display_data"
    }
   ],
   "source": [
    "ranks(F)"
   ]
  },
  {
   "cell_type": "code",
   "execution_count": 124,
   "metadata": {},
   "outputs": [
    {
     "data": {
      "text/plain": [
       "(20, 264, 26)"
      ]
     },
     "metadata": {},
     "output_type": "display_data"
    }
   ],
   "source": [
    "ranks(S)"
   ]
  },
  {
   "cell_type": "code",
   "execution_count": null,
   "metadata": {},
   "outputs": [],
   "source": []
  }
 ],
 "metadata": {
  "kernelspec": {
   "display_name": "Julia 1.8.3",
   "language": "julia",
   "name": "julia-1.8"
  },
  "language_info": {
   "file_extension": ".jl",
   "mimetype": "application/julia",
   "name": "julia",
   "version": "1.8.3"
  },
  "orig_nbformat": 4
 },
 "nbformat": 4,
 "nbformat_minor": 2
}
