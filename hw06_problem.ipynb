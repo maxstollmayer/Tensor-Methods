{
 "cells": [
  {
   "attachments": {},
   "cell_type": "markdown",
   "metadata": {},
   "source": [
    "The following illustrates the problem with the shape of the result of the left orthogonalization. The input checking has been disabled so that the error is thrown from the algorithm itself."
   ]
  },
  {
   "cell_type": "code",
   "execution_count": 1,
   "metadata": {},
   "outputs": [],
   "source": [
    "using LinearAlgebra"
   ]
  },
  {
   "cell_type": "code",
   "execution_count": 2,
   "metadata": {},
   "outputs": [],
   "source": [
    "# strong Kronecker product for 3rd order tensors\n",
    "function strongKron(A::AbstractArray{<:Number, 3}, B::AbstractArray{<:Number, 3})\n",
    "    m = size(A)\n",
    "    n = size(B)\n",
    "    @assert m[3] == n[1] \"Shared rank index does not match: got $(m[3]) and $(n[1]) respectively.\"\n",
    "\n",
    "    C = reshape(A, m[1]*m[2], m[3]) * reshape(B, n[1], n[2]*n[3])\n",
    "    return reshape(C, m[1], m[2]*n[2], n[3])\n",
    "end\n",
    "\n",
    "⨝(A::AbstractArray{<:Number, 3}, B::AbstractArray{<:Number, 3}) = strongKron(A, B)\n",
    "\n",
    ";"
   ]
  },
  {
   "cell_type": "code",
   "execution_count": 3,
   "metadata": {},
   "outputs": [],
   "source": [
    "# MPS-TT type as a list of 3D-tensor factors\n",
    "MPSTT{T<:Number} = AbstractVector{<:AbstractArray{T,3}}\n",
    "\n",
    "# returns number of dimensions of an MPS-TT\n",
    "dims(U::MPSTT) = length(U)\n",
    "\n",
    "# returns the mode dimensions of an MPS-TT\n",
    "function shape(U::MPSTT)\n",
    "    n = [size(factor, 2) for factor in U]\n",
    "    return Tuple(n)\n",
    "end\n",
    "\n",
    "# returns the ranks of an MPS-TT\n",
    "function ranks(U::MPSTT)\n",
    "    r = [size(factor, 1) for factor in U]\n",
    "    r = r[2:end] # remove dummy dimension\n",
    "    return Tuple(r)\n",
    "end\n",
    "\n",
    "# construct tensor from MPS-TT factors\n",
    "function evalMPSTT(U::MPSTT)\n",
    "    n = shape(U)\n",
    "    A = reduce(strongKron, U)\n",
    "    return reshape(A, n)\n",
    "end\n",
    "\n",
    ";"
   ]
  },
  {
   "cell_type": "code",
   "execution_count": 52,
   "metadata": {},
   "outputs": [],
   "source": [
    "function roundMPSTT(U::MPSTT, p::NTuple{N,<:Integer}) where N\n",
    "\n",
    "    # initialization\n",
    "    d = dims(U)\n",
    "    n = shape(U)\n",
    "    r = (1, ranks(U)..., 1)\n",
    "    p = (1, p..., 1)\n",
    "    V = []\n",
    "    singular_vals = Vector{Vector{Float64}}(undef, d-1)\n",
    "    norms = Vector{Float64}(undef, d-1)\n",
    "\n",
    "    # check input\n",
    "    # @assert N == d-1 \"Expected $(d-1) rank(s), got $N.\"\n",
    "    # for k ∈ 1:d-1\n",
    "    #     upper = min(p[k] * n[k], prod(n[k+1:end]))\n",
    "    #     upper = min(upper, r[k+1])\n",
    "    #     @assert 0 < p[k+1] <= upper \"Rank at index $k is out of bounds: expected in range 1:$upper, got $(p[k+1]).\"\n",
    "    # end\n",
    "\n",
    "    # left orthogonalization\n",
    "    R = ones(1, 1, 1)\n",
    "    for k ∈ d:-1:2\n",
    "        @show k\n",
    "        UR = U[k] ⨝ R\n",
    "\n",
    "        UR = permutedims(UR, [3,2,1]) # permute dims for right QR\n",
    "        UR = reshape(UR, r[k+1]*n[k], r[k])\n",
    "\n",
    "        Q, R = qr(UR)\n",
    "        @show size(Q) size(R) size(Matrix(Q))\n",
    "\n",
    "        Q = reshape(Matrix(Q), r[k+1], n[k], r[k])\n",
    "        R = reshape(R, r[k], 1, r[k])\n",
    "\n",
    "        Q = permutedims(Q, [3,2,1])\n",
    "        R = permutedims(R, [3,2,1])\n",
    "\n",
    "        push!(V, Q)\n",
    "    end\n",
    "\n",
    "    # compute first factor\n",
    "    push!(V, U[1] ⨝ R)\n",
    "    reverse!(V)\n",
    "\n",
    "    # right approximation\n",
    "    S = ones(1, 1, 1)\n",
    "    for k ∈ 1:d-1\n",
    "        SV = S ⨝ V[k]\n",
    "        SV = reshape(SV, p[k]*n[k], r[k+1])\n",
    "\n",
    "        F = svd(SV)\n",
    "        Vk = F.U[:,1:p[k+1]]\n",
    "        S = F.Vt[1:p[k+1],:] .* F.S[1:p[k+1]]\n",
    "\n",
    "        singular_vals[k] = F.S\n",
    "        norms[k] = norm(SV - Vk * S)\n",
    "\n",
    "        Vk = reshape(Vk, p[k], n[k], p[k+1])\n",
    "        S = reshape(S, p[k+1], 1, r[k+1])\n",
    "\n",
    "        V[k] = Vk\n",
    "    end\n",
    "\n",
    "    # compute last factor\n",
    "    V[d] = S ⨝ V[d]\n",
    "\n",
    "    # bring all factors to the same type\n",
    "    T = Base.promote_eltype(V...)\n",
    "    V = [convert(Array{T}, factor) for factor ∈ V]\n",
    "\n",
    "    return V, singular_vals, norms\n",
    "end\n",
    ";"
   ]
  },
  {
   "cell_type": "code",
   "execution_count": 53,
   "metadata": {},
   "outputs": [],
   "source": [
    "function addMPSTT(A::MPSTT, B::MPSTT)\n",
    "    d = dims(A)\n",
    "    @assert d == dims(B) \"Number of dimensions do not match: Got $d and $(dims(B)).\"\n",
    "    @assert shape(A) == shape(B) \"Mode dimensions do not match: Got $(shape(A)) and $(shape(B)).\"\n",
    "\n",
    "    first_factor = cat(A[1], B[1], dims=3)\n",
    "    middle_factors = [cat(A[k], B[k], dims=(1,3)) for k ∈ 2:d-1]\n",
    "    last_factor = cat(A[d], B[d], dims=1)\n",
    "\n",
    "    return [first_factor, middle_factors..., last_factor]\n",
    "end\n",
    ";"
   ]
  },
  {
   "cell_type": "code",
   "execution_count": 54,
   "metadata": {},
   "outputs": [],
   "source": [
    "n = (10, 11, 12, 13)\n",
    "rank = (n[1], n[2]*n[3], n[4])\n",
    "r = [1, rank..., 1]\n",
    "A = [rand(r[k], n[k], r[k+1]) for k ∈ 1:d]\n",
    "B = [rand(r[k], n[k], r[k+1]) for k ∈ 1:d]\n",
    "S = addMPSTT(A, B)\n",
    ";"
   ]
  },
  {
   "attachments": {},
   "cell_type": "markdown",
   "metadata": {},
   "source": [
    "Maybe there is a problem in my MPS-TT sum implementation as well since the error is very big."
   ]
  },
  {
   "cell_type": "code",
   "execution_count": 61,
   "metadata": {},
   "outputs": [
    {
     "data": {
      "text/plain": [
       "241279.78891256524"
      ]
     },
     "metadata": {},
     "output_type": "display_data"
    }
   ],
   "source": [
    "@assert shape(S) == n\n",
    "@assert ranks(S) == 2 .* rank\n",
    "\n",
    "norm(evalMPSTT(S) - evalMPSTT(A) + evalMPSTT(B))"
   ]
  },
  {
   "cell_type": "code",
   "execution_count": 56,
   "metadata": {},
   "outputs": [
    {
     "name": "stdout",
     "output_type": "stream",
     "text": [
      "k = 4\n",
      "size(Q) = (13, 13)\n",
      "size(R) = (13, 26)\n",
      "size(Matrix(Q)) = (13, 13)\n"
     ]
    },
    {
     "ename": "DimensionMismatch",
     "evalue": "DimensionMismatch: new dimensions (1, 13, 26) must be consistent with array size 169",
     "output_type": "error",
     "traceback": [
      "DimensionMismatch: new dimensions (1, 13, 26) must be consistent with array size 169\n",
      "\n",
      "Stacktrace:\n",
      " [1] (::Base.var\"#throw_dmrsa#289\")(dims::Tuple{Int64, Int64, Int64}, len::Int64)\n",
      "   @ Base .\\reshapedarray.jl:41\n",
      " [2] reshape\n",
      "   @ .\\reshapedarray.jl:45 [inlined]\n",
      " [3] reshape\n",
      "   @ .\\reshapedarray.jl:117 [inlined]\n",
      " [4] roundMPSTT(U::Vector{Array{Float64, 3}}, p::Tuple{Int64, Int64, Int64})\n",
      "   @ Main c:\\Users\\maxst\\Repos\\Tensor-Methods\\hw06_problem.ipynb:34\n",
      " [5] top-level scope\n",
      "   @ c:\\Users\\maxst\\Repos\\Tensor-Methods\\hw06_problem.ipynb:1"
     ]
    }
   ],
   "source": [
    "roundMPSTT(S, ranks(S))"
   ]
  },
  {
   "attachments": {},
   "cell_type": "markdown",
   "metadata": {},
   "source": [
    "Error is thrown because one wants to reshape Q into the shape of the last factor of S, which is (1, 13, 26) but Q is just (13, 13).\n",
    "\n",
    "Also the \"trick\" with multiplying Q with Matrix(I, size(R,2), size(R,2)) does not work because of this.\n",
    "\n",
    "(The problem stems from the rank dimensions of the given MPS-TT factors S and not the given ranks for the rounding.)"
   ]
  }
 ],
 "metadata": {
  "kernelspec": {
   "display_name": "Julia 1.8.3",
   "language": "julia",
   "name": "julia-1.8"
  },
  "language_info": {
   "file_extension": ".jl",
   "mimetype": "application/julia",
   "name": "julia",
   "version": "1.8.3"
  },
  "orig_nbformat": 4
 },
 "nbformat": 4,
 "nbformat_minor": 2
}
