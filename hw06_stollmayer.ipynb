{
 "cells": [
  {
   "attachments": {},
   "cell_type": "markdown",
   "metadata": {},
   "source": [
    "# Tensor Methods Homework 6"
   ]
  },
  {
   "cell_type": "code",
   "execution_count": 1,
   "metadata": {},
   "outputs": [],
   "source": [
    "using LinearAlgebra"
   ]
  },
  {
   "cell_type": "code",
   "execution_count": 2,
   "metadata": {},
   "outputs": [],
   "source": [
    "# strong Kronecker product for 3rd order tensors\n",
    "function strongKron(A::AbstractArray{<:Number, 3}, B::AbstractArray{<:Number, 3})\n",
    "    m = size(A)\n",
    "    n = size(B)\n",
    "    @assert m[3] == n[1] \"Shared rank index does not match: got $(m[3]) and $(n[1]) respectively.\"\n",
    "\n",
    "    C = reshape(A, m[1]*m[2], m[3]) * reshape(B, n[1], n[2]*n[3])\n",
    "    return reshape(C, m[1], m[2]*n[2], n[3])\n",
    "end\n",
    "\n",
    "⨝(A::AbstractArray{<:Number, 3}, B::AbstractArray{<:Number, 3}) = strongKron(A, B)\n",
    "\n",
    ";"
   ]
  },
  {
   "cell_type": "code",
   "execution_count": 3,
   "metadata": {},
   "outputs": [],
   "source": [
    "# MPS-TT type as a list of 3D-tensor factors\n",
    "MPSTT{T<:Number} = AbstractVector{<:AbstractArray{T,3}}\n",
    "\n",
    "# returns number of dimensions of an MPS-TT\n",
    "dims(U::MPSTT) = length(U)\n",
    "\n",
    "# returns the mode dimensions of an MPS-TT\n",
    "function shape(U::MPSTT)\n",
    "    if isempty(U)\n",
    "        return ()\n",
    "    end\n",
    "    n = [size(factor, 2) for factor in U]\n",
    "    return Tuple(n)\n",
    "end\n",
    "\n",
    "# returns the ranks of an MPS-TT\n",
    "function ranks(U::MPSTT)\n",
    "    if isempty(U)\n",
    "        return ()\n",
    "    end\n",
    "    r = [size(factor, 1) for factor in U]\n",
    "    r = r[2:end] # remove dummy dimension\n",
    "    return Tuple(r)\n",
    "end\n",
    "\n",
    "# construct tensor from MPS-TT factors\n",
    "function evalMPSTT(U::MPSTT)\n",
    "    n = shape(U)\n",
    "    A = reduce(strongKron, U)\n",
    "    return reshape(A, n)\n",
    "end\n",
    "\n",
    ";"
   ]
  },
  {
   "attachments": {},
   "cell_type": "markdown",
   "metadata": {},
   "source": [
    "### 1. Implementing the MPS-TT truncation.\n",
    "\n",
    "Implement the MPS-TT rounding (rank truncation) algorithm. Given\n",
    "- a vector $u \\in \\mathbb{R}^{n_1 \\dots n_d}$ (where $d \\in \\mathbb{N}$ and $n_1, \\dots, n_d \\in \\mathbb{N}$) in the form of an MPS-TT factorization $u = U_1 \\ {\\scriptsize\\bowtie} \\ \\dots \\ {\\scriptsize\\bowtie} \\ U_d$ with\n",
    "ranks $p_1, \\dots, p_{d−1} \\in \\mathbb{N}$ and \n",
    "- target ranks $r_1, \\dots, r_{d−1} \\in \\mathbb{N}$,\n",
    "\n",
    "the implementation should produce an MPS-TT approximation $v = V_1 \\ {\\scriptsize\\bowtie} \\ \\dots \\ {\\scriptsize\\bowtie} \\ V_d$ to $u$ of quasi-optimal accuracy in the Frobenius norm and of ranks not exceeding $r_1, \\dots, r_{d−1}$.\n",
    "\n",
    "The output should include\n",
    "- the MPS-TT decomposition produced by the algorithm,\n",
    "- the vectors of singular values of the matrices that are explicitly approximated within the algorithm (one vector of singular values per step) and\n",
    "- the Frobenius norms of the errors of the mentioned low-rank matrix approximation (one scalar per step)."
   ]
  },
  {
   "cell_type": "code",
   "execution_count": 125,
   "metadata": {},
   "outputs": [],
   "source": [
    "function round(U::MPSTT, p::NTuple{N,<:Integer}) where N\n",
    "\n",
    "    # initialization\n",
    "    d = dims(U)\n",
    "    n = shape(U)\n",
    "    r = (1, ranks(U)..., 1)\n",
    "    p = (1, p..., 1)\n",
    "    V = []\n",
    "    singular_vals = []\n",
    "    norms = []\n",
    "\n",
    "    # check input\n",
    "    @assert N == d-1 \"Expected $(d-1) rank(s), got $N.\"\n",
    "    for k ∈ 1:d-1\n",
    "        upper = min(p[k] * n[k], prod(n[k+1:end]))\n",
    "        upper = min(upper, r[k+1])\n",
    "        @assert 0 < p[k+1] <= upper \"Rank at index $k is out of bounds: expected in range 1:$upper, got $(p[k+1]).\"\n",
    "    end\n",
    "\n",
    "    # left orthogonalization\n",
    "    R = ones(1, 1, 1)\n",
    "    for k ∈ d:-1:2\n",
    "        UR = U[k] ⨝ R\n",
    "\n",
    "        UR = permutedims(UR, [3,2,1]) # permute dims for right QR\n",
    "        UR = reshape(UR, r[k+1]*n[k], r[k])\n",
    "\n",
    "        Q, R = qr(UR)\n",
    "\n",
    "        Q = reshape(Matrix(Q), r[k+1], n[k], r[k])\n",
    "        R = reshape(R, r[k], 1, r[k])\n",
    "\n",
    "        Q = permutedims(Q, [3,2,1])\n",
    "        R = permutedims(R, [3,2,1])\n",
    "\n",
    "        push!(V, Q)\n",
    "    end\n",
    "\n",
    "    # compute first factor\n",
    "    push!(V, U[1] ⨝ R)\n",
    "    reverse!(V)\n",
    "\n",
    "    # right approximation\n",
    "    S = ones(1, 1, 1)\n",
    "    for k ∈ 1:d-1\n",
    "        SV = S ⨝ V[k]\n",
    "        SV = reshape(SV, p[k]*n[k], r[k+1])\n",
    "\n",
    "        F = svd(SV)\n",
    "        Vk = F.U[:,1:p[k+1]]\n",
    "        S = F.Vt[1:p[k+1],:] .* F.S[1:p[k+1]]\n",
    "\n",
    "        push!(singular_vals, F.S)\n",
    "        push!(norms, norm(SV - Vk * S))\n",
    "\n",
    "        Vk = reshape(Vk, p[k], n[k], p[k+1])\n",
    "        S = reshape(S, p[k+1], 1, r[k+1])\n",
    "\n",
    "        V[k] = Vk\n",
    "    end\n",
    "\n",
    "    # compute last factor\n",
    "    V[d] = S ⨝ V[d]\n",
    "\n",
    "    # bring all factors to the same type\n",
    "    T = Base.promote_eltype(V...)\n",
    "    V = [convert(Array{T}, factor) for factor ∈ V]\n",
    "\n",
    "    return V, singular_vals, norms\n",
    "end\n",
    "\n",
    "round(U::MPSTT, r::AbstractVector{<:Integer}) = round(U, tuple(r...))\n",
    "\n",
    ";"
   ]
  },
  {
   "cell_type": "code",
   "execution_count": 139,
   "metadata": {},
   "outputs": [
    {
     "data": {
      "text/plain": [
       "4.828299559436969e-13"
      ]
     },
     "metadata": {},
     "output_type": "display_data"
    }
   ],
   "source": [
    "U = [rand(1,2,3), rand(3,4,5), rand(5,6,7), rand(7,8,1)]\n",
    "p = (2, 5, 7)\n",
    "V, σ, ϵ = round(U, p)\n",
    "A = evalMPSTT(U)\n",
    "B = evalMPSTT(V)\n",
    "norm(A - B)"
   ]
  },
  {
   "attachments": {},
   "cell_type": "markdown",
   "metadata": {},
   "source": [
    "### 2. Adding, scaling and multiplying in the TT-MPS representation.\n",
    "\n",
    "Implement functions that, for $d \\in \\mathbb{N}$ and $m_1, \\dots, m_d, n_1, \\dots, n_d \\in \\mathbb{N}$, compute exact MPS-TT\n",
    "factorizations $w = W_1 \\ {\\scriptsize\\bowtie} \\ \\dots \\ {\\scriptsize\\bowtie} \\ W_d$\n",
    "\n",
    "a) of the linear combination $w = \\alpha u + \\beta v ∈ \\mathbb{R}^{n_1 \\dots n_d}$, with given coefficients $\\alpha, \\beta \\in \\mathbb{R}$, of two vectors $u, v \\in \\mathbb{R}^{n_1 \\dots n_d}$ given in the form of MPS-TT decompositions $u = U_1 \\ {\\scriptsize\\bowtie} \\ \\dots \\ {\\scriptsize\\bowtie} \\ U_d$ and $v = V_1 \\ {\\scriptsize\\bowtie} \\ \\dots \\ {\\scriptsize\\bowtie} \\ V_d$"
   ]
  },
  {
   "cell_type": "code",
   "execution_count": 9,
   "metadata": {},
   "outputs": [],
   "source": []
  },
  {
   "attachments": {},
   "cell_type": "markdown",
   "metadata": {},
   "source": [
    "b) of the entrywise product $w = u \\odot v \\in \\mathbb{R}^{n_1 \\dots n_d}$, of two vectors $u, v \\in \\mathbb{R}^{n_1 \\dots n_d}$ given in the form of MPS-TT decompositions $u = U_1 \\ {\\scriptsize\\bowtie} \\ \\dots \\ {\\scriptsize\\bowtie} \\ U_d$ and $v = V_1 \\ {\\scriptsize\\bowtie} \\ \\dots \\ {\\scriptsize\\bowtie} \\ V_d$;"
   ]
  },
  {
   "cell_type": "code",
   "execution_count": 10,
   "metadata": {},
   "outputs": [],
   "source": []
  },
  {
   "attachments": {},
   "cell_type": "markdown",
   "metadata": {},
   "source": [
    "c) of the product $w = A u \\in \\mathbb{R}^{m_1 \\dots m_d}$ of a given matrix $A \\in \\mathbb{R}^{m_1 \\dots m_d \\times n_1 \\dots n_d}$ and a given vector $u \\in \\mathbb{R}^{n_1 \\dots n_d}$ given in the form of MPS-TT decompositions $A = A_1 \\ {\\scriptsize\\bowtie} \\ \\dots \\ {\\scriptsize\\bowtie} \\ A_d$ and $u = U_1 \\ {\\scriptsize\\bowtie} \\ \\dots \\ {\\scriptsize\\bowtie} \\ U_d$."
   ]
  },
  {
   "cell_type": "code",
   "execution_count": 11,
   "metadata": {},
   "outputs": [],
   "source": []
  },
  {
   "attachments": {},
   "cell_type": "markdown",
   "metadata": {},
   "source": [
    "### 3. Testing the MPS-TT arithmetic.\n",
    "\n",
    "For $n = 51$, let us consider the grid of $t_i = 2 \\frac{i − 1}{n − 1} − 1$ with $i = 1, \\dots, n$, the tensors $X, Y \\in \\mathbb{R}^{n \\times n \\times n \\times n}$ given by\n",
    "$$ X_{i_1, i_2, i_3, i_4} = T_p \\left( \\sum_{k=1}^4 \\frac{t_{i_k}}{k} \\right) $$\n",
    "and\n",
    "$$ Y_{i_1, i_2, i_3, i_4} = T_q \\left( \\sum_{k=1}^4 \\frac{t_{i_k}}{k} \\right) $$\n",
    "where $p, q \\in \\mathbb{N}_0$ and $T_r$ with $r \\in \\mathbb{N}_0$ is the Chebyshev polynomial of the first kind of degree $r$, and their vectorizations $x = \\mathrm{vec}(X)$ and $y = \\mathrm{vec}(Y)$.\n",
    "\n",
    "Consider the sum $s = x + y$ and the entrywise product $z = x \\odot y$.\n",
    "\n",
    "a) Inspect the decay of the singular values for all the MPS-TT unfoldings of $x, y, s, z$ for several moderate values of $p$ and $q$ (for example, 3 and 4, 5 and 7) For each of these vectors, how does the maximum of the MPS-TT ranks depend on $p$ and $q$? Are the bounds derived for such vectors in the lectures sharp for the examples you have considered?"
   ]
  },
  {
   "cell_type": "code",
   "execution_count": 12,
   "metadata": {},
   "outputs": [],
   "source": []
  },
  {
   "attachments": {},
   "cell_type": "markdown",
   "metadata": {},
   "source": [
    "b) Let $p = 5$ and $q = 7$. Compute exact (up to machine precision) MPS-TT representations of $x$ and $y$ using an implementation of the TT-SVD (Schmidt decomposition) algorithm (see assignment 4). Use your implementation from problem 2 to directly assemble MPS-TT representations of $s$ and $z$ without forming these vectors entrywise. Use your implementation of the rank truncation algorithm from problem 1 to compute exact (up to machine precision) MPS-TT representations of $s$ and $z$. Check that these decompositions are exact up to machine precision by forming the vectors entrywise (as $x + y$ and $x \\odot y$)."
   ]
  },
  {
   "cell_type": "code",
   "execution_count": 13,
   "metadata": {},
   "outputs": [],
   "source": []
  }
 ],
 "metadata": {
  "kernelspec": {
   "display_name": "Julia 1.8.3",
   "language": "julia",
   "name": "julia-1.8"
  },
  "language_info": {
   "file_extension": ".jl",
   "mimetype": "application/julia",
   "name": "julia",
   "version": "1.8.3"
  },
  "orig_nbformat": 4
 },
 "nbformat": 4,
 "nbformat_minor": 2
}
