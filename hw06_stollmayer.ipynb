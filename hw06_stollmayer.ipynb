{
 "cells": [
  {
   "attachments": {},
   "cell_type": "markdown",
   "metadata": {},
   "source": [
    "# Tensor Methods Homework 6"
   ]
  },
  {
   "cell_type": "code",
   "execution_count": 1,
   "metadata": {},
   "outputs": [],
   "source": [
    "using Base.Iterators, LinearAlgebra, Plots\n",
    "import Base: *, /"
   ]
  },
  {
   "cell_type": "code",
   "execution_count": 2,
   "metadata": {},
   "outputs": [],
   "source": [
    "# strong Kronecker product for 3rd order tensors\n",
    "function strongKron(A::AbstractArray{<:Number, 3}, B::AbstractArray{<:Number, 3})\n",
    "    m = size(A)\n",
    "    n = size(B)\n",
    "    @assert m[3] == n[1] \"Shared rank index does not match: got $(m[3]) and $(n[1]) respectively.\"\n",
    "\n",
    "    C = reshape(A, m[1]*m[2], m[3]) * reshape(B, n[1], n[2]*n[3])\n",
    "    return reshape(C, m[1], m[2]*n[2], n[3])\n",
    "end\n",
    "\n",
    "⨝(A::AbstractArray{<:Number, 3}, B::AbstractArray{<:Number, 3}) = strongKron(A, B)\n",
    "\n",
    ";"
   ]
  },
  {
   "cell_type": "code",
   "execution_count": 3,
   "metadata": {},
   "outputs": [],
   "source": [
    "# MPS-TT type as a list of 3D-tensor factors\n",
    "MPSTT{T<:Number} = AbstractVector{<:AbstractArray{T,3}}\n",
    "\n",
    "# returns number of dimensions of an MPS-TT\n",
    "dims(U::MPSTT) = length(U)\n",
    "\n",
    "# returns the mode dimensions of an MPS-TT\n",
    "function shape(U::MPSTT)\n",
    "    n = [size(factor, 2) for factor in U]\n",
    "    return Tuple(n)\n",
    "end\n",
    "\n",
    "# returns the ranks of an MPS-TT\n",
    "function ranks(U::MPSTT)\n",
    "    r = [size(factor, 1) for factor in U]\n",
    "    r = r[2:end] # remove dummy dimension\n",
    "    return Tuple(r)\n",
    "end\n",
    "\n",
    "# construct tensor from MPS-TT factors\n",
    "function evalMPSTT(U::MPSTT)\n",
    "    n = shape(U)\n",
    "    A = reduce(strongKron, U, init=[])\n",
    "    return reshape(A, n)\n",
    "end\n",
    "\n",
    ";"
   ]
  },
  {
   "attachments": {},
   "cell_type": "markdown",
   "metadata": {},
   "source": [
    "### 1. Implementing the MPS-TT truncation.\n",
    "\n",
    "Implement the MPS-TT rounding (rank truncation) algorithm. Given\n",
    "- a vector $u \\in \\mathbb{R}^{n_1 \\dots n_d}$ (where $d \\in \\mathbb{N}$ and $n_1, \\dots, n_d \\in \\mathbb{N}$) in the form of an MPS-TT factorization $u = U_1 \\ {\\scriptsize\\bowtie} \\ \\dots \\ {\\scriptsize\\bowtie} \\ U_d$ with\n",
    "ranks $p_1, \\dots, p_{d−1} \\in \\mathbb{N}$ and \n",
    "- target ranks $r_1, \\dots, r_{d−1} \\in \\mathbb{N}$,\n",
    "\n",
    "the implementation should produce an MPS-TT approximation $v = V_1 \\ {\\scriptsize\\bowtie} \\ \\dots \\ {\\scriptsize\\bowtie} \\ V_d$ to $u$ of quasi-optimal accuracy in the Frobenius norm and of ranks not exceeding $r_1, \\dots, r_{d−1}$.\n",
    "\n",
    "The output should include\n",
    "- the MPS-TT decomposition produced by the algorithm,\n",
    "- the vectors of singular values of the matrices that are explicitly approximated within the algorithm (one vector of singular values per step) and\n",
    "- the Frobenius norms of the errors of the mentioned low-rank matrix approximation (one scalar per step)."
   ]
  },
  {
   "cell_type": "code",
   "execution_count": 4,
   "metadata": {},
   "outputs": [],
   "source": [
    "function roundMPSTT(U::MPSTT, p::NTuple{N,<:Integer}) where N\n",
    "\n",
    "    # initialization\n",
    "    d = dims(U)\n",
    "    n = shape(U)\n",
    "    r = (1, ranks(U)..., 1)\n",
    "    p = (1, p..., 1)\n",
    "    V = []\n",
    "    singular_vals = Vector{Vector{Float64}}(undef, d-1)\n",
    "    norms = Vector{Float64}(undef, d-1)\n",
    "\n",
    "    # check input\n",
    "    @assert N == d-1 \"Expected $(d-1) rank(s), got $N.\"\n",
    "    for k ∈ 1:d-1\n",
    "        upper = min(p[k] * n[k], prod(n[k+1:end]))\n",
    "        upper = min(upper, r[k+1])\n",
    "        @assert 0 < p[k+1] <= upper \"Rank at index $k is out of bounds: expected in range 1:$upper, got $(p[k+1]).\"\n",
    "    end\n",
    "\n",
    "    # left orthogonalization\n",
    "    R = ones(1, 1, 1)\n",
    "    for k ∈ d:-1:2\n",
    "        UR = U[k] ⨝ R\n",
    "\n",
    "        UR = permutedims(UR, [3,2,1]) # permute dims for right QR\n",
    "        UR = reshape(UR, r[k+1]*n[k], r[k])\n",
    "\n",
    "        Q, R = qr(UR)\n",
    "\n",
    "        Q = reshape(Matrix(Q), r[k+1], n[k], r[k])\n",
    "        R = reshape(R, r[k], 1, r[k])\n",
    "\n",
    "        Q = permutedims(Q, [3,2,1])\n",
    "        R = permutedims(R, [3,2,1])\n",
    "\n",
    "        push!(V, Q)\n",
    "    end\n",
    "\n",
    "    # compute first factor\n",
    "    push!(V, U[1] ⨝ R)\n",
    "    reverse!(V)\n",
    "\n",
    "    # right approximation\n",
    "    S = ones(1, 1, 1)\n",
    "    for k ∈ 1:d-1\n",
    "        SV = S ⨝ V[k]\n",
    "        SV = reshape(SV, p[k]*n[k], r[k+1])\n",
    "\n",
    "        F = svd(SV)\n",
    "        Vk = F.U[:,1:p[k+1]]\n",
    "        S = F.Vt[1:p[k+1],:] .* F.S[1:p[k+1]]\n",
    "\n",
    "        singular_vals[k] = F.S\n",
    "        norms[k] = norm(SV - Vk * S)\n",
    "\n",
    "        Vk = reshape(Vk, p[k], n[k], p[k+1])\n",
    "        S = reshape(S, p[k+1], 1, r[k+1])\n",
    "\n",
    "        V[k] = Vk\n",
    "    end\n",
    "\n",
    "    # compute last factor\n",
    "    V[d] = S ⨝ V[d]\n",
    "\n",
    "    # bring all factors to the same type\n",
    "    T = Base.promote_eltype(V...)\n",
    "    V = [convert(Array{T}, factor) for factor ∈ V]\n",
    "\n",
    "    return V, singular_vals, norms\n",
    "end\n",
    "\n",
    "roundMPSTT(U::MPSTT, r::AbstractVector{<:Integer}) = round(U, tuple(r...))\n",
    "\n",
    ";"
   ]
  },
  {
   "attachments": {},
   "cell_type": "markdown",
   "metadata": {},
   "source": [
    "### 2. Adding, scaling and multiplying in the TT-MPS representation.\n",
    "\n",
    "Implement functions that, for $d \\in \\mathbb{N}$ and $m_1, \\dots, m_d, n_1, \\dots, n_d \\in \\mathbb{N}$, compute exact MPS-TT\n",
    "factorizations $w = W_1 \\ {\\scriptsize\\bowtie} \\ \\dots \\ {\\scriptsize\\bowtie} \\ W_d$\n",
    "\n",
    "a) of the linear combination $w = \\alpha u + \\beta v ∈ \\mathbb{R}^{n_1 \\dots n_d}$, with given coefficients $\\alpha, \\beta \\in \\mathbb{R}$, of two vectors $u, v \\in \\mathbb{R}^{n_1 \\dots n_d}$ given in the form of MPS-TT decompositions $u = U_1 \\ {\\scriptsize\\bowtie} \\ \\dots \\ {\\scriptsize\\bowtie} \\ U_d$ and $v = V_1 \\ {\\scriptsize\\bowtie} \\ \\dots \\ {\\scriptsize\\bowtie} \\ V_d$"
   ]
  },
  {
   "cell_type": "code",
   "execution_count": 5,
   "metadata": {},
   "outputs": [],
   "source": [
    "function scaleMPSTT(α::Number, A::MPSTT)\n",
    "    V = copy(A)\n",
    "    V[1] = α * V[1]\n",
    "    return V\n",
    "end\n",
    "\n",
    "function addMPSTT(A::MPSTT, B::MPSTT)\n",
    "    d = dims(A)\n",
    "    @assert d == dims(B) \"Number of dimensions do not match: Got $d and $(dims(B)).\"\n",
    "    @assert shape(A) == shape(B) \"Mode dimensions do not match: Got $(shape(A)) and $(shape(B)).\"\n",
    "\n",
    "    first_factor = cat(A[1], B[1], dims=3)\n",
    "    center_factors = [cat(A[k], B[k], dims=(1,3)) for k ∈ 2:d-1]\n",
    "    last_factor = cat(A[d], B[d], dims=1)\n",
    "\n",
    "    return [first_factor, center_factors..., last_factor]\n",
    "end\n",
    "\n",
    "\n",
    "*(α::Number, A::MPSTT) = scaleMPSTT(α, A)\n",
    "*(A::MPSTT, α::Number) = scaleMPSTT(α, A)\n",
    "/(U::MPSTT, α::Number) = scaleMPSTT(1/α, A)\n",
    "⊕(A::MPSTT, B::MPSTT) = addMPSTT(A, B)\n",
    ";"
   ]
  },
  {
   "attachments": {},
   "cell_type": "markdown",
   "metadata": {},
   "source": [
    "b) of the entrywise product $w = u \\odot v \\in \\mathbb{R}^{n_1 \\dots n_d}$, of two vectors $u, v \\in \\mathbb{R}^{n_1 \\dots n_d}$ given in the form of MPS-TT decompositions $u = U_1 \\ {\\scriptsize\\bowtie} \\ \\dots \\ {\\scriptsize\\bowtie} \\ U_d$ and $v = V_1 \\ {\\scriptsize\\bowtie} \\ \\dots \\ {\\scriptsize\\bowtie} \\ V_d$;"
   ]
  },
  {
   "cell_type": "code",
   "execution_count": 6,
   "metadata": {},
   "outputs": [],
   "source": [
    "function entrymulFactor(Ak::AbstractArray{TA,3}, Bk::AbstractArray{TB,3}) where {TA<:Number, TB<:Number}\n",
    "    n = size(Ak, 2)\n",
    "    slices = [kron(Ak[:,i,:], Bk[:,i,:]) for i ∈ 1:n]\n",
    "    Ck = cat(slices..., dims=3)\n",
    "    return permutedims(Ck, [1,3,2])\n",
    "end\n",
    "\n",
    "function entrymulMPSTT(A::MPSTT, B::MPSTT)\n",
    "    d = dims(A)\n",
    "    n = shape(A)\n",
    "    @assert d == dims(B) \"Number of dimensions do not match: Got $d and $(dims(B)).\"\n",
    "    @assert n == shape(B) \"Mode dimensions do not match: Got $n and $(shape(B)).\"\n",
    "\n",
    "    return [entrymulFactor(A[k], B[k]) for k ∈ 1:d]\n",
    "end\n",
    "\n",
    "⊙(A::MPSTT, B::MPSTT) = entrymulMPSTT(A, B)\n",
    "\n",
    ";"
   ]
  },
  {
   "attachments": {},
   "cell_type": "markdown",
   "metadata": {},
   "source": [
    "c) of the product $w = A u \\in \\mathbb{R}^{m_1 \\dots m_d}$ of a given matrix $A \\in \\mathbb{R}^{m_1 \\dots m_d \\times n_1 \\dots n_d}$ and a given vector $u \\in \\mathbb{R}^{n_1 \\dots n_d}$ given in the form of MPS-TT decompositions $A = A_1 \\ {\\scriptsize\\bowtie} \\ \\dots \\ {\\scriptsize\\bowtie} \\ A_d$ and $u = U_1 \\ {\\scriptsize\\bowtie} \\ \\dots \\ {\\scriptsize\\bowtie} \\ U_d$."
   ]
  },
  {
   "cell_type": "code",
   "execution_count": 16,
   "metadata": {},
   "outputs": [],
   "source": [
    "function matvecmulFactor(Ak::AbstractArray{TA,3}, uk::AbstractArray{Tu,3}) where {TA<:Number, Tu<:Number}\n",
    "    mn = size(Ak, 2)\n",
    "    n = size(uk, 2)\n",
    "    m = Int(mn / n)\n",
    "    Bk = reshape(Ak, size(Ak,1), m, n, size(Ak,3))\n",
    "    slices = [sum([kron(Ak[:,i,j,:], uk[:,j,:]) for j ∈ 1:n]) for i ∈ 1:m]\n",
    "    Ck = cat(slices..., dims=3)\n",
    "    return permutedims(Ck, [1,3,2])\n",
    "end\n",
    "\n",
    "function matvecmulMPSTT(A::MPSTT, u::MPSTT)\n",
    "    d = dims(A)\n",
    "    @assert d == dims(u) \"Number of dimensions do not match: Got $d and $(dims(u)).\"\n",
    "    n = shape(u)\n",
    "    m = shape(A) ./ n\n",
    "    @assert all(isinteger.(m)) \"Mode dimensions do not match: Got $m and $n.\"\n",
    "\n",
    "    return [matvecmulFactor(A[k], u[k]) for k ∈ 1:d]\n",
    "end\n",
    "\n",
    "⊗(A::MPSTT, u::MPSTT) = matvecmulMPSTT(A, u)\n",
    "\n",
    ";"
   ]
  },
  {
   "attachments": {},
   "cell_type": "markdown",
   "metadata": {},
   "source": [
    "### 3. Testing the MPS-TT arithmetic.\n",
    "\n",
    "For $n = 51$, let us consider the grid of $t_i = 2 \\frac{i − 1}{n − 1} − 1$ with $i = 1, \\dots, n$, the tensors $X, Y \\in \\mathbb{R}^{n \\times n \\times n \\times n}$ given by\n",
    "$$ X_{i_1, i_2, i_3, i_4} = T_p \\left( \\sum_{k=1}^4 \\frac{t_{i_k}}{k} \\right) $$\n",
    "and\n",
    "$$ Y_{i_1, i_2, i_3, i_4} = T_q \\left( \\sum_{k=1}^4 \\frac{t_{i_k}}{k} \\right) $$\n",
    "where $p, q \\in \\mathbb{N}_0$ and $T_r$ with $r \\in \\mathbb{N}_0$ is the Chebyshev polynomial of the first kind of degree $r$, and their vectorizations $x = \\mathrm{vec}(X)$ and $y = \\mathrm{vec}(Y)$.\n",
    "\n",
    "Consider the sum $s = x + y$ and the entrywise product $z = x \\odot y$."
   ]
  },
  {
   "cell_type": "code",
   "execution_count": 44,
   "metadata": {},
   "outputs": [],
   "source": [
    "# Chebyshev polynomial of first kind\n",
    "function T(p::Integer)\n",
    "    function Tx(x)\n",
    "        if abs(x) <= 1\n",
    "            return cos(p * acos(x))\n",
    "        elseif x > 1\n",
    "            return cosh(p * acosh(x))\n",
    "        else # x < 1\n",
    "            return (-1)^p * cosh(p * acosh(-x))\n",
    "        end\n",
    "    end\n",
    "    return Tx\n",
    "end\n",
    "\n",
    "function getTensor(p::Integer, d::Integer, grid::Vector{<:Number})\n",
    "    f = T(p)\n",
    "    n = length(grid)\n",
    "\n",
    "    repeated_grid = ntuple(_ -> grid, d)\n",
    "    meshgrid = map(collect, product(repeated_grid...))\n",
    "\n",
    "    return [f(sum(x ./ (1:d))) for x ∈ meshgrid]\n",
    "end\n",
    "\n",
    ";"
   ]
  },
  {
   "cell_type": "code",
   "execution_count": 42,
   "metadata": {},
   "outputs": [],
   "source": [
    "d = 4\n",
    "n = 51\n",
    "t = collect(2 * ((1:n) .- 1) / (n-1) .- 1)\n",
    ";"
   ]
  },
  {
   "attachments": {},
   "cell_type": "markdown",
   "metadata": {},
   "source": [
    "a) Inspect the decay of the singular values for all the MPS-TT unfoldings of $x, y, s, z$ for several moderate values of $p$ and $q$ (for example, 3 and 4, 5 and 7) For each of these vectors, how does the maximum of the MPS-TT ranks depend on $p$ and $q$? Are the bounds derived for such vectors in the lectures sharp for the examples you have considered?"
   ]
  },
  {
   "cell_type": "code",
   "execution_count": 45,
   "metadata": {},
   "outputs": [],
   "source": [
    "ps = (3, 5)\n",
    "qs = (4, 7)\n",
    "\n",
    "for (p, q) ∈ zip(ps, qs)\n",
    "    X = getTensor(p, d, t)\n",
    "    Y = getTensor(q, d, t)\n",
    "    x = vec(X)\n",
    "    y = vec(Y)\n",
    "    s = x + y\n",
    "    z = x .* y\n",
    "end"
   ]
  },
  {
   "attachments": {},
   "cell_type": "markdown",
   "metadata": {},
   "source": [
    "b) Let $p = 5$ and $q = 7$. Compute exact (up to machine precision) MPS-TT representations of $x$ and $y$ using an implementation of the TT-SVD (Schmidt decomposition) algorithm (see assignment 4). Use your implementation from problem 2 to directly assemble MPS-TT representations of $s$ and $z$ without forming these vectors entrywise. Use your implementation of the rank truncation algorithm from problem 1 to compute exact (up to machine precision) MPS-TT representations of $s$ and $z$. Check that these decompositions are exact up to machine precision by forming the vectors entrywise (as $x + y$ and $x \\odot y$)."
   ]
  },
  {
   "cell_type": "code",
   "execution_count": 14,
   "metadata": {},
   "outputs": [
    {
     "data": {
      "text/plain": [
       "7"
      ]
     },
     "metadata": {},
     "output_type": "display_data"
    }
   ],
   "source": [
    "P = 5\n",
    "q = 7"
   ]
  }
 ],
 "metadata": {
  "kernelspec": {
   "display_name": "Julia 1.8.3",
   "language": "julia",
   "name": "julia-1.8"
  },
  "language_info": {
   "file_extension": ".jl",
   "mimetype": "application/julia",
   "name": "julia",
   "version": "1.8.3"
  },
  "orig_nbformat": 4
 },
 "nbformat": 4,
 "nbformat_minor": 2
}
