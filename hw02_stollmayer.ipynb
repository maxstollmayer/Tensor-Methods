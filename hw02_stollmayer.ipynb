{
 "cells": [
  {
   "cell_type": "markdown",
   "metadata": {},
   "source": [
    "# Tensor Methods Homework 2\n"
   ]
  },
  {
   "cell_type": "markdown",
   "metadata": {},
   "source": [
    "### 1 Forming the multiplication tensor \"on paper\"\n",
    "\n",
    "$$\\begin{pmatrix} a_1 & a_3 \\\\ a_2 & a_4 \\end{pmatrix} \\cdot \\begin{pmatrix} b_1 & b_3 \\\\ b_2 & b_4 \\end{pmatrix} = \\begin{pmatrix} a_1 b_1 + a_3 b_2 & a_1 b_3 + a_3 b_4 \\\\ a_2 b_1 + a_4 b_2 & a_2 b_3 + a_4 b_4 \\end{pmatrix} = \\begin{pmatrix} c_1 & c_3 \\\\ c_2 & c_4 \\end{pmatrix}$$\n",
    "\n",
    "Find $T \\in \\mathbb{R}^{4 \\times 4 \\times 4}$ such that $c_k = \\sum_{i=1}^4 \\sum_{j=1}^4 t_{ijk} a_i b_j$.\n",
    "\n",
    "Using the naive implementation from above we get\n",
    "\n",
    "$$T = \\left[\\begin{array}{cccc|cccc|cccc|cccc}\n",
    "  1 &   & &   &     &   & &   &   & 1 &   &   &   & &   &   \\\\\n",
    "    &   & &   &  1 &   & &    &   &   &   &   &   & & 1 &   \\\\\n",
    "    & 1 & &   &     &   & &   &   &   & 1 &   &   & &   &   \\\\\n",
    "    &   & &   &     & 1 & &   &   &   &   &   &   & &   & 1 \\\\\n",
    "\\end{array}\\right]$$"
   ]
  },
  {
   "cell_type": "markdown",
   "metadata": {},
   "source": [
    "### 2 Forming a CPD of the multiplication tensor \"on paper\"\n",
    "\n",
    "Find $U, V, W \\in \\mathbb{R}$ such that $T = \\sum_{\\alpha=1}^8 u_\\alpha \\otimes v_\\alpha \\otimes w_\\alpha$.\n",
    "\n",
    "Choosing $U, V, W$ such that $u_\\alpha \\otimes v_\\alpha \\otimes w_\\alpha = e_i \\otimes e_j \\otimes e_k$ for each $t_{ijk} = 1$ yields\n",
    "\n",
    "$$ U = \\begin{pmatrix}\n",
    "    1 &   &   &   & 1 &   &   &   \\\\\n",
    "      &   & 1 &   &   &   & 1 &   \\\\\n",
    "      & 1 &   &   &   & 1 &   &   \\\\\n",
    "      &   &   & 1 &   &   &   & 1 \\\\\n",
    "\\end{pmatrix}$$\n",
    "\n",
    "$$ V = \\begin{pmatrix}\n",
    "    1 &   & 1 &   &   &   &   &   \\\\\n",
    "      & 1 &   & 1 &   &   &   &   \\\\\n",
    "      &   &   &   & 1 &   & 1 &   \\\\\n",
    "      &   &   &   &   & 1 &   & 1 \\\\\n",
    "\\end{pmatrix}$$\n",
    "\n",
    "$$ W = \\begin{pmatrix}\n",
    "    1 & 1 &   &   &   &   &   &   \\\\\n",
    "      &   & 1 & 1 &   &   &   &   \\\\\n",
    "      &   &   &   & 1 & 1 &   &   \\\\\n",
    "      &   &   &   &   &   & 1 & 1 \\\\\n",
    "\\end{pmatrix}$$"
   ]
  },
  {
   "cell_type": "markdown",
   "metadata": {},
   "source": [
    "### 3 Implementing mode contraction"
   ]
  },
  {
   "cell_type": "code",
   "execution_count": 1,
   "metadata": {},
   "outputs": [
    {
     "data": {
      "text/plain": [
       "contract (generic function with 1 method)"
      ]
     },
     "metadata": {},
     "output_type": "display_data"
    }
   ],
   "source": [
    "function contract(S::AbstractArray, Z::AbstractMatrix, k::Integer)\n",
    "    # check arguments\n",
    "    d = ndims(S)\n",
    "    n = size(S)\n",
    "    r, nₖ = size(Z)\n",
    "    if !(0 < k <= d)\n",
    "        throw(ArgumentError(\"Contraction index is not in range 1 ≤ k ≤ $d: got $k\"))\n",
    "    end\n",
    "    if nₖ != n[k]\n",
    "        throw(ArgumentError(\"Dimension of matrix does not match tensor: expected $(n[k]), got $nₖ\"))\n",
    "    end\n",
    "    \n",
    "    # initialize new array\n",
    "    T = promote_type(eltype(S), eltype(Z))\n",
    "    Rs = Base.setindex(n, r, k)\n",
    "    A = similar(S, T, Rs)\n",
    "\n",
    "    # contract\n",
    "    for α = 1:r\n",
    "        for I in CartesianIndices(S)\n",
    "            J = Base.setindex(I, α, k)\n",
    "            A[J] += S[I] * Z[α,I[k]]\n",
    "        end\n",
    "    end\n",
    "\n",
    "    return A\n",
    "end"
   ]
  },
  {
   "cell_type": "code",
   "execution_count": 2,
   "metadata": {},
   "outputs": [
    {
     "data": {
      "text/plain": [
       "3×4×2 Array{Float64, 3}:\n",
       "[:, :, 1] =\n",
       " 1.28161  1.1103    1.75035   0.925998\n",
       " 1.35912  0.8513    1.2198    0.778232\n",
       " 1.04121  0.642308  0.804027  0.60413\n",
       "\n",
       "[:, :, 2] =\n",
       " 1.88474  1.21508   1.84602  1.09282\n",
       " 1.69675  1.19424   1.71891  1.06014\n",
       " 1.44863  0.792002  1.25659  0.814927"
      ]
     },
     "metadata": {},
     "output_type": "display_data"
    }
   ],
   "source": [
    "S = rand(3,5,2)\n",
    "Z = rand(4,5)\n",
    "k = 2\n",
    "\n",
    "contract(S,Z,k)"
   ]
  },
  {
   "cell_type": "markdown",
   "metadata": {},
   "source": [
    "### 4 Evaluating a CPD"
   ]
  },
  {
   "cell_type": "code",
   "execution_count": 3,
   "metadata": {},
   "outputs": [
    {
     "data": {
      "text/plain": [
       "evalCPD (generic function with 1 method)"
      ]
     },
     "metadata": {},
     "output_type": "display_data"
    }
   ],
   "source": [
    "function evalCPD(Us::Vararg{AbstractMatrix,N}) where {N}\n",
    "    # check arguments\n",
    "    if N == 0\n",
    "        throw(ArgumentError(\"No arguments provided.\"))\n",
    "    end\n",
    "    n = Tuple([size(U, 1) for U in Us])\n",
    "    r = size(Us[1], 2)\n",
    "    T = eltype(Us[1])\n",
    "    for U in Us\n",
    "        T = promote_type(T, eltype(U))\n",
    "        rk = size(U, 2)\n",
    "        if r != rk\n",
    "            throw(ArgumentError(\"Matrices do not have matching rank dimensions.\"))\n",
    "        end\n",
    "    end\n",
    "\n",
    "    # initialize tensor\n",
    "    S = zeros(T, n)\n",
    "\n",
    "    # evaluate CPD\n",
    "    for I in CartesianIndices(S)\n",
    "        S[I] = sum([prod([Us[k][I[k],α] for k = 1:length(Us)]) for α = 1:r])\n",
    "    end\n",
    "\n",
    "    return S\n",
    "end"
   ]
  },
  {
   "cell_type": "code",
   "execution_count": 4,
   "metadata": {},
   "outputs": [
    {
     "data": {
      "text/plain": [
       "5×4×3 Array{Float64, 3}:\n",
       "[:, :, 1] =\n",
       " 0.889022  0.728917  0.561712  0.853951\n",
       " 0.749597  0.883557  1.0095    1.2401\n",
       " 0.727435  1.02099   1.26343   0.931078\n",
       " 1.60519   1.55702   1.48317   1.64987\n",
       " 1.27726   1.51711   1.70824   1.79924\n",
       "\n",
       "[:, :, 2] =\n",
       " 0.762982  0.623928  0.459752  0.545446\n",
       " 0.487429  0.549795  0.659175  0.771766\n",
       " 0.635766  0.76452   0.903463  0.574327\n",
       " 1.28676   1.1626    1.11641   1.06603\n",
       " 1.18815   1.23337   1.28494   1.23375\n",
       "\n",
       "[:, :, 3] =\n",
       " 0.686904  0.633191  0.558383  0.789021\n",
       " 0.421195  0.520284  0.508647  0.64476\n",
       " 0.595308  0.985194  1.20883   0.81159\n",
       " 1.33806   1.51049   1.53872   1.55\n",
       " 0.845663  1.06218   1.17339   1.24037"
      ]
     },
     "metadata": {},
     "output_type": "display_data"
    }
   ],
   "source": [
    "U1 = rand(5, 8)\n",
    "U2 = rand(4, 8)\n",
    "U3 = rand(3, 8)\n",
    "\n",
    "evalCPD(U1, U2, U3)"
   ]
  },
  {
   "cell_type": "markdown",
   "metadata": {},
   "source": [
    "### 5 Implementing the multiplication tensor"
   ]
  },
  {
   "cell_type": "code",
   "execution_count": 5,
   "metadata": {},
   "outputs": [
    {
     "data": {
      "text/plain": [
       "4×4×4 Array{Int64, 3}:\n",
       "[:, :, 1] =\n",
       " 1  0  0  0\n",
       " 0  0  0  0\n",
       " 0  1  0  0\n",
       " 0  0  0  0\n",
       "\n",
       "[:, :, 2] =\n",
       " 0  0  0  0\n",
       " 1  0  0  0\n",
       " 0  0  0  0\n",
       " 0  1  0  0\n",
       "\n",
       "[:, :, 3] =\n",
       " 0  0  1  0\n",
       " 0  0  0  0\n",
       " 0  0  0  1\n",
       " 0  0  0  0\n",
       "\n",
       "[:, :, 4] =\n",
       " 0  0  0  0\n",
       " 0  0  1  0\n",
       " 0  0  0  0\n",
       " 0  0  0  1"
      ]
     },
     "metadata": {},
     "output_type": "display_data"
    }
   ],
   "source": [
    "U = [1 0 0 0 1 0 0 0; 0 0 1 0 0 0 1 0; 0 1 0 0 0 1 0 0; 0 0 0 1 0 0 0 1]\n",
    "V = [1 0 1 0 0 0 0 0; 0 1 0 1 0 0 0 0; 0 0 0 0 1 0 1 0; 0 0 0 0 0 1 0 1]\n",
    "W = [1 1 0 0 0 0 0 0; 0 0 1 1 0 0 0 0; 0 0 0 0 1 1 0 0; 0 0 0 0 0 0 1 1]\n",
    "\n",
    "T = evalCPD(U, V, W)"
   ]
  },
  {
   "cell_type": "code",
   "execution_count": 6,
   "metadata": {},
   "outputs": [
    {
     "data": {
      "text/plain": [
       "true"
      ]
     },
     "metadata": {},
     "output_type": "display_data"
    }
   ],
   "source": [
    "A = rand(2, 2)\n",
    "B = rand(2, 2)\n",
    "C = zeros(2, 2)\n",
    "\n",
    "for k in LinearIndices(C)\n",
    "    C[k] = sum([T[i,j,k] * A[i] * B[j] for i=1:4, j=1:4])\n",
    "end\n",
    "\n",
    "C == A * B"
   ]
  },
  {
   "cell_type": "markdown",
   "metadata": {},
   "source": [
    "### 6 Implementing multiplication via the CPD"
   ]
  },
  {
   "cell_type": "code",
   "execution_count": 7,
   "metadata": {},
   "outputs": [
    {
     "data": {
      "text/plain": [
       "multiply (generic function with 1 method)"
      ]
     },
     "metadata": {},
     "output_type": "display_data"
    }
   ],
   "source": [
    "function multiply(A::AbstractMatrix, B::AbstractMatrix, U::AbstractMatrix, V::AbstractMatrix, W::AbstractMatrix)\n",
    "    # check arguments\n",
    "    n, n2 = size(A)\n",
    "    n3, n4 = size(B)\n",
    "    if n != n2 || n != n3 || n != n4\n",
    "        throw(ArgumentError(\"Matrices to be multiplied need to be square with the same dimensions.\"))\n",
    "    end\n",
    "    nu, r = size(U)\n",
    "    nv, rv = size(V)\n",
    "    nw, rw = size(W)\n",
    "    if r != rv || r != rw\n",
    "        throw(ArgumentError(\"Rank dimension of CPD matrices do not match.\"))\n",
    "    end\n",
    "    if nu != n^2 || nv != n^2 || nw != n^2\n",
    "        throw(ArgumentError(\"CPD matrices need to be of dimensions $(n^2) × $r\"))\n",
    "    end\n",
    "\n",
    "    # initialize matrix\n",
    "    T = promote_type(eltype(A), eltype(B))\n",
    "    C = similar(A, T)\n",
    "\n",
    "    # essential multiplications\n",
    "    m = zeros(T, r)\n",
    "    for α = 1:r\n",
    "        UA = sum([U[i,α] * A[i] for i in LinearIndices(A)])\n",
    "        VB = sum([V[i,α] * B[i] for i in LinearIndices(B)])\n",
    "        m[α] = UA * VB\n",
    "    end\n",
    "    \n",
    "    # non-essential multiplications\n",
    "    for i in LinearIndices(C)\n",
    "        C[i] = sum([W[i,α] * m[α] for α = 1:r])\n",
    "    end\n",
    "\n",
    "    return C\n",
    "end"
   ]
  },
  {
   "cell_type": "code",
   "execution_count": 8,
   "metadata": {},
   "outputs": [
    {
     "data": {
      "text/plain": [
       "true"
      ]
     },
     "metadata": {},
     "output_type": "display_data"
    }
   ],
   "source": [
    "A = rand(2, 2)\n",
    "B = rand(2, 2)\n",
    "\n",
    "multiply(A, B, U, V, W) == A * B"
   ]
  },
  {
   "cell_type": "markdown",
   "metadata": {},
   "source": [
    "### 7 Interpreting the Strassen algorithm in terms of CPD\n",
    "\n",
    "Strassen algorithm:\n",
    "\n",
    "$$ \\begin{pmatrix} c_1 & c_3 \\\\ c_2 & c_4 \\end{pmatrix} = \\begin{pmatrix} m_1 + m_4 - m_5 + m_7 & m_3 + m_5 \\\\ m_2 + m_4 & m_1 - m_2 + m_3 + m_6 \\end{pmatrix} $$\n",
    "\n",
    "where the $m_i$ are the following essential multiplications\n",
    "\n",
    "$$\\begin{align*}\n",
    "& m_1 = ( a_1 + a_4 )( b_1 + b_4 ) \\\\\n",
    "& m_2 = ( a_2 + a_4 ) b_1 \\\\\n",
    "& m_3 = a_1 ( b_3 - b_4 ) \\\\\n",
    "& m_4 = a_4 ( b_2 - b_1 ) \\\\\n",
    "& m_5 = ( a_1 + a_3 ) b_4 \\\\\n",
    "& m_6 = ( a_2 - a_1 )( b_1 + b_3 ) \\\\\n",
    "& m_7 = ( a_3 - a_4 )( b_2 + b_4 ) \\\\\n",
    "\\end{align*}$$\n",
    "\n",
    "Thus we get the following rank-7 CPD of the multiplication tensor $T$:"
   ]
  },
  {
   "cell_type": "code",
   "execution_count": 9,
   "metadata": {},
   "outputs": [
    {
     "data": {
      "text/plain": [
       "true"
      ]
     },
     "metadata": {},
     "output_type": "display_data"
    }
   ],
   "source": [
    "Uh = [1 0 1 0 1 -1 0; 0 1 0 0 0 1 0; 0 0 0 0 1 0 1; 1 1 0 1 0 0 -1]\n",
    "Vh = [1 1 0 -1 0 1 0; 0 0 0 1 0 0 1; 0 0 1 0 0 1 0; 1 0 -1 0 1 0 1]\n",
    "Wh = [1 0 0 1 -1 0 1; 0 1 0 1 0 0 0; 0 0 1 0 1 0 0; 1 -1 1 0 0 1 0]\n",
    "\n",
    "evalCPD(Uh, Vh, Wh) == T"
   ]
  },
  {
   "cell_type": "code",
   "execution_count": 10,
   "metadata": {},
   "outputs": [
    {
     "data": {
      "text/plain": [
       "2×2 Matrix{Float64}:\n",
       " -5.55112e-17   0.0\n",
       "  2.77556e-17  -6.93889e-17"
      ]
     },
     "metadata": {},
     "output_type": "display_data"
    }
   ],
   "source": [
    "A = rand(2, 2)\n",
    "B = rand(2, 2)\n",
    "\n",
    "multiply(A, B, Uh, Vh, Wh) - A * B"
   ]
  },
  {
   "cell_type": "markdown",
   "metadata": {},
   "source": []
  }
 ],
 "metadata": {
  "kernelspec": {
   "display_name": "Julia 1.8.0",
   "language": "julia",
   "name": "julia-1.8"
  },
  "language_info": {
   "file_extension": ".jl",
   "mimetype": "application/julia",
   "name": "julia",
   "version": "1.8.0"
  },
  "orig_nbformat": 4,
  "vscode": {
   "interpreter": {
    "hash": "573625700304b6f46117bfb580840190c993145cf9e096b21760ebfb16f69619"
   }
  }
 },
 "nbformat": 4,
 "nbformat_minor": 2
}
