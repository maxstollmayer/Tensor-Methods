{
 "cells": [
  {
   "cell_type": "markdown",
   "metadata": {},
   "source": [
    "# Tensor Methods Homework 3"
   ]
  },
  {
   "cell_type": "markdown",
   "metadata": {},
   "source": [
    "### 1 Implementation of the HOSVD algorithm\n",
    "\n",
    "Implement the HOSVD algorithm for the Tucker approximation of a given tensor $A \\in \\R^{n_1 \\times \\dots \\times n_d}$ (with dimensionality $d \\in \\N$ and mode sizes $n_1, \\dots, n_d \\in \\N$) with given ranks $r_1, \\dots, r_d \\in \\N$. The output should include\n",
    "- the Tucker decomposition produced by the algorithm,\n",
    "- the vectors of singular values of the matrices that are explicitly approximated within the algorithm (one vector\n",
    "of singular values per step)\n",
    "- the Frobenius norms of the errors of the mentioned low-rank matrix approximation (one scalar per step)."
   ]
  },
  {
   "cell_type": "code",
   "execution_count": 147,
   "metadata": {},
   "outputs": [
    {
     "data": {
      "text/plain": [
       "HOSVD (generic function with 1 method)"
      ]
     },
     "metadata": {},
     "output_type": "display_data"
    }
   ],
   "source": [
    "using LinearAlgebra\n",
    "\n",
    "function HOSVD(A::AbstractArray, r::NTuple{N,Integer}) where {N}\n",
    "    # check arguments\n",
    "    d = ndims(A)\n",
    "    @assert d == N \"Required number of rank parameters for given tensor is $d.\"\n",
    "    @assert all(r .> 0) \"Rank parameters need to be positive integers.\"\n",
    "\n",
    "    # initialization\n",
    "    n = size(A)\n",
    "    r = min.(n, r) # ranks should not exceed dimensions\n",
    "    Vs = Vector{AbstractMatrix}(undef, d)\n",
    "    S = A\n",
    "\n",
    "    for k = 1:d\n",
    "        # unfolding matrix\n",
    "        p = prod(r[1:k-1])\n",
    "        q = prod(n[k+1:end])\n",
    "        B = reshape(S, p, n[k], q)\n",
    "        B = permutedims(B, [2,1,3])\n",
    "        B = reshape(B, n[k], p*q)\n",
    "\n",
    "        # truncated SVD\n",
    "        V, Σ, U = svd(B)\n",
    "        Vs[k] = V[:,1:r[k]]\n",
    "        W = U'[1:r[k],:]\n",
    "        for i = 1:r[k]\n",
    "            W[i,:] *= Σ[i]\n",
    "        end\n",
    "\n",
    "        # next iterate\n",
    "        S = reshape(W, r[k], p, q)\n",
    "        S = permutedims(S, [2,1,3])\n",
    "        S = reshape(S, r[1:k]..., n[k+1:end]...)\n",
    "    end\n",
    "\n",
    "    return S, Vs\n",
    "end"
   ]
  },
  {
   "cell_type": "markdown",
   "metadata": {},
   "source": [
    "### 2 Testing the HOSVD algorithm\n",
    "\n",
    "Test your implementation of the HOSVD algorithm in the case of $d = 4$ as follows. For $n_k = 20 + k$ and $r_k = 2k$ with $k \\in \\{1, \\dots, d\\}$, generate a quasi-random Tucker decomposition $U_1, \\dots, U_d, S$ of mode sizes $n_1, \\dots, n_d$ and ranks $r_1, \\dots, r_d$ by drawing the entries of the factors quasi-randomly in $[−1, 1]$. Form the tensor $C$ represented by the decomposition. Then compute a Tucker decomposition of $C$ with ranks $r_1, \\dots, r_d$ using your implementation of the HOSVD algorithm. Form the tensor $\\hat{C}$ represented by the output decomposition and compute the relative error $\\frac{\\|\\hat{C} - C\\|_F}{\\|C\\|_F}$."
   ]
  },
  {
   "cell_type": "code",
   "execution_count": 148,
   "metadata": {},
   "outputs": [
    {
     "data": {
      "text/plain": [
       "modecontract"
      ]
     },
     "metadata": {},
     "output_type": "display_data"
    }
   ],
   "source": [
    "\"\"\"mode contraction as implemented by Prof. Kazeev.\"\"\"\n",
    "function modecontract(S::AbstractArray, Z::AbstractMatrix, k::Integer)\n",
    "\n",
    "    # check inputs\n",
    "    d = ndims(S)\n",
    "    n = collect(size(S))\n",
    "    r, nk = size(Z)\n",
    "    @assert 1 <= k <= d \"Contraction index is not in range 1 ≤ k ≤ $d: got $k\"\n",
    "    @assert nk == n[k] \"Dimension of matrix does not match tensor: expected $(n[k]), got $nk\"\n",
    "    \n",
    "    # reshaping dimensions\n",
    "    p = prod(n[1:k-1])\n",
    "    q = prod(n[k+1:end])\n",
    "\n",
    "    # reshaping and permuting\n",
    "    S = reshape(S, p, n[k], q)\n",
    "    S = permutedims(S, [2,1,3])\n",
    "    S = reshape(S, n[k], p*q)\n",
    "\n",
    "    # contraction\n",
    "    S = Z * S\n",
    "    \n",
    "    # reshaping and permuting back\n",
    "    n[k] = size(S, 1)\n",
    "    S = reshape(S, n[k], p, q)\n",
    "    S = permutedims(S, [2,1,3])\n",
    "    S = reshape(S, n...)\n",
    "\n",
    "    return S\n",
    "end"
   ]
  },
  {
   "cell_type": "code",
   "execution_count": 174,
   "metadata": {},
   "outputs": [
    {
     "data": {
      "text/plain": [
       "evalTucker (generic function with 2 methods)"
      ]
     },
     "metadata": {},
     "output_type": "display_data"
    }
   ],
   "source": [
    "function evalTucker(S::AbstractArray, Vs::Vector{V}) where (V <: AbstractMatrix)\n",
    "    # check arguments\n",
    "    d = ndims(S)\n",
    "    @assert length(Vs) == d \"Required number of frame matrices is $d, got $(length(Vs)).\"\n",
    "    r = size(S)\n",
    "    T = eltype(S)\n",
    "    n = Vector{Int}(undef, d)\n",
    "    for k = 1:d\n",
    "        nk, rk = size(Vs[k])\n",
    "        @assert rk == r[k] \"Dimension of frame matrix $k does not match Tucker core.\"\n",
    "        n[k] = nk\n",
    "        T = promote_type(T, eltype(Vs[k]))\n",
    "    end\n",
    "\n",
    "    # mode contraction\n",
    "    A = S\n",
    "    for k = 1:d\n",
    "        A = modecontract(A, Vs[k], k)\n",
    "    end\n",
    "\n",
    "    return A\n",
    "end"
   ]
  },
  {
   "cell_type": "code",
   "execution_count": 182,
   "metadata": {},
   "outputs": [
    {
     "data": {
      "text/plain": [
       "9.483792535282496e-16"
      ]
     },
     "metadata": {},
     "output_type": "display_data"
    }
   ],
   "source": [
    "d = 4\n",
    "n = Tuple((21):(20+d))\n",
    "r = Tuple(2*(1:d))\n",
    "\n",
    "# construct C\n",
    "Us = [rand(n[k], r[k]) for k = 1:d]\n",
    "S = rand(r...)\n",
    "C = evalTucker(S, Us)\n",
    "\n",
    "# construct C hat\n",
    "S, Us = HOSVD(C, r)\n",
    "Ch = evalTucker(S, Us)\n",
    "\n",
    "norm(Ch - C)/norm(C)"
   ]
  },
  {
   "cell_type": "code",
   "execution_count": null,
   "metadata": {},
   "outputs": [],
   "source": []
  }
 ],
 "metadata": {
  "kernelspec": {
   "display_name": "Julia 1.8.0",
   "language": "julia",
   "name": "julia-1.8"
  },
  "language_info": {
   "file_extension": ".jl",
   "mimetype": "application/julia",
   "name": "julia",
   "version": "1.8.0"
  },
  "orig_nbformat": 4,
  "vscode": {
   "interpreter": {
    "hash": "e7370f93d1d0cde622a1f8e1c04877d8463912d04d973331ad4851f04de6915a"
   }
  }
 },
 "nbformat": 4,
 "nbformat_minor": 2
}
